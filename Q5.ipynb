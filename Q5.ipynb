{
 "cells": [
  {
   "cell_type": "code",
   "execution_count": 37,
   "metadata": {
    "collapsed": true
   },
   "outputs": [],
   "source": [
    "import pandas as pd"
   ]
  },
  {
   "cell_type": "code",
   "execution_count": null,
   "outputs": [],
   "source": [
    "dataframe = pd.DataFrame\n",
    "dataframe['Age'] = [2, 2, 1, 3, 3, 3, 1, 2, 2, 3, 2, 1, 1]"
   ],
   "metadata": {
    "collapsed": false
   }
  },
  {
   "cell_type": "code",
   "execution_count": 57,
   "outputs": [],
   "source": [
    "dataframe = pd.read_excel('data.xlsx', index_col='User id')"
   ],
   "metadata": {
    "collapsed": false
   }
  },
  {
   "cell_type": "code",
   "execution_count": 58,
   "outputs": [
    {
     "data": {
      "text/plain": "         Age  Incoming  Student  Credit Rating  Buying\nUser id                                               \n1          2         1        1              2       1\n2          2         1        1              1       1\n3          1         1        1              2       2\n4          3         2        1              2       2\n5          3         3        2              2       2\n6          3         3        2              1       1\n7          1         3        2              1       2\n8          2         2        1              2       1\n9          2         3        2              2       2\n10         3         2        2              2       2\n11         2         2        2              1       2\n12         1         2        1              1       2\n13         1         1        2              2       2",
      "text/html": "<div>\n<style scoped>\n    .dataframe tbody tr th:only-of-type {\n        vertical-align: middle;\n    }\n\n    .dataframe tbody tr th {\n        vertical-align: top;\n    }\n\n    .dataframe thead th {\n        text-align: right;\n    }\n</style>\n<table border=\"1\" class=\"dataframe\">\n  <thead>\n    <tr style=\"text-align: right;\">\n      <th></th>\n      <th>Age</th>\n      <th>Incoming</th>\n      <th>Student</th>\n      <th>Credit Rating</th>\n      <th>Buying</th>\n    </tr>\n    <tr>\n      <th>User id</th>\n      <th></th>\n      <th></th>\n      <th></th>\n      <th></th>\n      <th></th>\n    </tr>\n  </thead>\n  <tbody>\n    <tr>\n      <th>1</th>\n      <td>2</td>\n      <td>1</td>\n      <td>1</td>\n      <td>2</td>\n      <td>1</td>\n    </tr>\n    <tr>\n      <th>2</th>\n      <td>2</td>\n      <td>1</td>\n      <td>1</td>\n      <td>1</td>\n      <td>1</td>\n    </tr>\n    <tr>\n      <th>3</th>\n      <td>1</td>\n      <td>1</td>\n      <td>1</td>\n      <td>2</td>\n      <td>2</td>\n    </tr>\n    <tr>\n      <th>4</th>\n      <td>3</td>\n      <td>2</td>\n      <td>1</td>\n      <td>2</td>\n      <td>2</td>\n    </tr>\n    <tr>\n      <th>5</th>\n      <td>3</td>\n      <td>3</td>\n      <td>2</td>\n      <td>2</td>\n      <td>2</td>\n    </tr>\n    <tr>\n      <th>6</th>\n      <td>3</td>\n      <td>3</td>\n      <td>2</td>\n      <td>1</td>\n      <td>1</td>\n    </tr>\n    <tr>\n      <th>7</th>\n      <td>1</td>\n      <td>3</td>\n      <td>2</td>\n      <td>1</td>\n      <td>2</td>\n    </tr>\n    <tr>\n      <th>8</th>\n      <td>2</td>\n      <td>2</td>\n      <td>1</td>\n      <td>2</td>\n      <td>1</td>\n    </tr>\n    <tr>\n      <th>9</th>\n      <td>2</td>\n      <td>3</td>\n      <td>2</td>\n      <td>2</td>\n      <td>2</td>\n    </tr>\n    <tr>\n      <th>10</th>\n      <td>3</td>\n      <td>2</td>\n      <td>2</td>\n      <td>2</td>\n      <td>2</td>\n    </tr>\n    <tr>\n      <th>11</th>\n      <td>2</td>\n      <td>2</td>\n      <td>2</td>\n      <td>1</td>\n      <td>2</td>\n    </tr>\n    <tr>\n      <th>12</th>\n      <td>1</td>\n      <td>2</td>\n      <td>1</td>\n      <td>1</td>\n      <td>2</td>\n    </tr>\n    <tr>\n      <th>13</th>\n      <td>1</td>\n      <td>1</td>\n      <td>2</td>\n      <td>2</td>\n      <td>2</td>\n    </tr>\n  </tbody>\n</table>\n</div>"
     },
     "execution_count": 58,
     "metadata": {},
     "output_type": "execute_result"
    }
   ],
   "source": [
    "for column in dataframe.columns:\n",
    "    colormap = {elem: index + 1 for index, elem in enumerate(set(dataframe[column]))}\n",
    "    dataframe[column] = dataframe[column].map(colormap)\n",
    "dataframe['Age'] = [2, 2, 1, 3, 3, 3, 1, 2, 2, 3, 2, 1, 1]\n",
    "dataframe"
   ],
   "metadata": {
    "collapsed": false
   }
  },
  {
   "cell_type": "code",
   "execution_count": 59,
   "outputs": [
    {
     "data": {
      "text/plain": "DecisionTreeClassifier(criterion='entropy')",
      "text/html": "<style>#sk-container-id-4 {color: black;background-color: white;}#sk-container-id-4 pre{padding: 0;}#sk-container-id-4 div.sk-toggleable {background-color: white;}#sk-container-id-4 label.sk-toggleable__label {cursor: pointer;display: block;width: 100%;margin-bottom: 0;padding: 0.3em;box-sizing: border-box;text-align: center;}#sk-container-id-4 label.sk-toggleable__label-arrow:before {content: \"▸\";float: left;margin-right: 0.25em;color: #696969;}#sk-container-id-4 label.sk-toggleable__label-arrow:hover:before {color: black;}#sk-container-id-4 div.sk-estimator:hover label.sk-toggleable__label-arrow:before {color: black;}#sk-container-id-4 div.sk-toggleable__content {max-height: 0;max-width: 0;overflow: hidden;text-align: left;background-color: #f0f8ff;}#sk-container-id-4 div.sk-toggleable__content pre {margin: 0.2em;color: black;border-radius: 0.25em;background-color: #f0f8ff;}#sk-container-id-4 input.sk-toggleable__control:checked~div.sk-toggleable__content {max-height: 200px;max-width: 100%;overflow: auto;}#sk-container-id-4 input.sk-toggleable__control:checked~label.sk-toggleable__label-arrow:before {content: \"▾\";}#sk-container-id-4 div.sk-estimator input.sk-toggleable__control:checked~label.sk-toggleable__label {background-color: #d4ebff;}#sk-container-id-4 div.sk-label input.sk-toggleable__control:checked~label.sk-toggleable__label {background-color: #d4ebff;}#sk-container-id-4 input.sk-hidden--visually {border: 0;clip: rect(1px 1px 1px 1px);clip: rect(1px, 1px, 1px, 1px);height: 1px;margin: -1px;overflow: hidden;padding: 0;position: absolute;width: 1px;}#sk-container-id-4 div.sk-estimator {font-family: monospace;background-color: #f0f8ff;border: 1px dotted black;border-radius: 0.25em;box-sizing: border-box;margin-bottom: 0.5em;}#sk-container-id-4 div.sk-estimator:hover {background-color: #d4ebff;}#sk-container-id-4 div.sk-parallel-item::after {content: \"\";width: 100%;border-bottom: 1px solid gray;flex-grow: 1;}#sk-container-id-4 div.sk-label:hover label.sk-toggleable__label {background-color: #d4ebff;}#sk-container-id-4 div.sk-serial::before {content: \"\";position: absolute;border-left: 1px solid gray;box-sizing: border-box;top: 0;bottom: 0;left: 50%;z-index: 0;}#sk-container-id-4 div.sk-serial {display: flex;flex-direction: column;align-items: center;background-color: white;padding-right: 0.2em;padding-left: 0.2em;position: relative;}#sk-container-id-4 div.sk-item {position: relative;z-index: 1;}#sk-container-id-4 div.sk-parallel {display: flex;align-items: stretch;justify-content: center;background-color: white;position: relative;}#sk-container-id-4 div.sk-item::before, #sk-container-id-4 div.sk-parallel-item::before {content: \"\";position: absolute;border-left: 1px solid gray;box-sizing: border-box;top: 0;bottom: 0;left: 50%;z-index: -1;}#sk-container-id-4 div.sk-parallel-item {display: flex;flex-direction: column;z-index: 1;position: relative;background-color: white;}#sk-container-id-4 div.sk-parallel-item:first-child::after {align-self: flex-end;width: 50%;}#sk-container-id-4 div.sk-parallel-item:last-child::after {align-self: flex-start;width: 50%;}#sk-container-id-4 div.sk-parallel-item:only-child::after {width: 0;}#sk-container-id-4 div.sk-dashed-wrapped {border: 1px dashed gray;margin: 0 0.4em 0.5em 0.4em;box-sizing: border-box;padding-bottom: 0.4em;background-color: white;}#sk-container-id-4 div.sk-label label {font-family: monospace;font-weight: bold;display: inline-block;line-height: 1.2em;}#sk-container-id-4 div.sk-label-container {text-align: center;}#sk-container-id-4 div.sk-container {/* jupyter's `normalize.less` sets `[hidden] { display: none; }` but bootstrap.min.css set `[hidden] { display: none !important; }` so we also need the `!important` here to be able to override the default hidden behavior on the sphinx rendered scikit-learn.org. See: https://github.com/scikit-learn/scikit-learn/issues/21755 */display: inline-block !important;position: relative;}#sk-container-id-4 div.sk-text-repr-fallback {display: none;}</style><div id=\"sk-container-id-4\" class=\"sk-top-container\"><div class=\"sk-text-repr-fallback\"><pre>DecisionTreeClassifier(criterion=&#x27;entropy&#x27;)</pre><b>In a Jupyter environment, please rerun this cell to show the HTML representation or trust the notebook. <br />On GitHub, the HTML representation is unable to render, please try loading this page with nbviewer.org.</b></div><div class=\"sk-container\" hidden><div class=\"sk-item\"><div class=\"sk-estimator sk-toggleable\"><input class=\"sk-toggleable__control sk-hidden--visually\" id=\"sk-estimator-id-4\" type=\"checkbox\" checked><label for=\"sk-estimator-id-4\" class=\"sk-toggleable__label sk-toggleable__label-arrow\">DecisionTreeClassifier</label><div class=\"sk-toggleable__content\"><pre>DecisionTreeClassifier(criterion=&#x27;entropy&#x27;)</pre></div></div></div></div></div>"
     },
     "execution_count": 59,
     "metadata": {},
     "output_type": "execute_result"
    }
   ],
   "source": [
    "from sklearn import tree\n",
    "\n",
    "A = ['Age', 'Incoming', 'Student', 'Credit Rating']\n",
    "clf = tree.DecisionTreeClassifier(criterion='entropy')\n",
    "clf.fit(dataframe[A], dataframe['Buying'])"
   ],
   "metadata": {
    "collapsed": false
   }
  },
  {
   "cell_type": "code",
   "execution_count": 63,
   "outputs": [
    {
     "data": {
      "image/svg+xml": "<?xml version=\"1.0\" encoding=\"UTF-8\" standalone=\"no\"?>\n<!DOCTYPE svg PUBLIC \"-//W3C//DTD SVG 1.1//EN\"\n \"http://www.w3.org/Graphics/SVG/1.1/DTD/svg11.dtd\">\n<!-- Generated by graphviz version 7.0.4 (20221203.1631)\n -->\n<!-- Title: Tree Pages: 1 -->\n<svg width=\"484pt\" height=\"671pt\"\n viewBox=\"0.00 0.00 484.00 671.00\" xmlns=\"http://www.w3.org/2000/svg\" xmlns:xlink=\"http://www.w3.org/1999/xlink\">\n<g id=\"graph0\" class=\"graph\" transform=\"scale(1 1) rotate(0) translate(4 667)\">\n<title>Tree</title>\n<polygon fill=\"white\" stroke=\"none\" points=\"-4,4 -4,-667 480,-667 480,4 -4,4\"/>\n<!-- 0 -->\n<g id=\"node1\" class=\"node\">\n<title>0</title>\n<path fill=\"#91c9f1\" stroke=\"black\" d=\"M155,-663C155,-663 71,-663 71,-663 65,-663 59,-657 59,-651 59,-651 59,-592 59,-592 59,-586 65,-580 71,-580 71,-580 155,-580 155,-580 161,-580 167,-586 167,-592 167,-592 167,-651 167,-651 167,-657 161,-663 155,-663\"/>\n<text text-anchor=\"start\" x=\"82\" y=\"-647.8\" font-family=\"Helvetica,sans-Serif\" font-size=\"14.00\">Age ≤ 1.5</text>\n<text text-anchor=\"start\" x=\"67\" y=\"-632.8\" font-family=\"Helvetica,sans-Serif\" font-size=\"14.00\">entropy = 0.89</text>\n<text text-anchor=\"start\" x=\"69.5\" y=\"-617.8\" font-family=\"Helvetica,sans-Serif\" font-size=\"14.00\">samples = 13</text>\n<text text-anchor=\"start\" x=\"72.5\" y=\"-602.8\" font-family=\"Helvetica,sans-Serif\" font-size=\"14.00\">value = [4, 9]</text>\n<text text-anchor=\"start\" x=\"84.5\" y=\"-587.8\" font-family=\"Helvetica,sans-Serif\" font-size=\"14.00\">class = u</text>\n</g>\n<!-- 1 -->\n<g id=\"node2\" class=\"node\">\n<title>1</title>\n<path fill=\"#399de5\" stroke=\"black\" d=\"M88,-536.5C88,-536.5 12,-536.5 12,-536.5 6,-536.5 0,-530.5 0,-524.5 0,-524.5 0,-480.5 0,-480.5 0,-474.5 6,-468.5 12,-468.5 12,-468.5 88,-468.5 88,-468.5 94,-468.5 100,-474.5 100,-480.5 100,-480.5 100,-524.5 100,-524.5 100,-530.5 94,-536.5 88,-536.5\"/>\n<text text-anchor=\"start\" x=\"8\" y=\"-521.3\" font-family=\"Helvetica,sans-Serif\" font-size=\"14.00\">entropy = 0.0</text>\n<text text-anchor=\"start\" x=\"10.5\" y=\"-506.3\" font-family=\"Helvetica,sans-Serif\" font-size=\"14.00\">samples = 4</text>\n<text text-anchor=\"start\" x=\"9.5\" y=\"-491.3\" font-family=\"Helvetica,sans-Serif\" font-size=\"14.00\">value = [0, 4]</text>\n<text text-anchor=\"start\" x=\"21.5\" y=\"-476.3\" font-family=\"Helvetica,sans-Serif\" font-size=\"14.00\">class = u</text>\n</g>\n<!-- 0&#45;&gt;1 -->\n<g id=\"edge1\" class=\"edge\">\n<title>0&#45;&gt;1</title>\n<path fill=\"none\" stroke=\"black\" d=\"M90.97,-579.58C85.27,-568.99 79.11,-557.56 73.34,-546.85\"/>\n<polygon fill=\"black\" stroke=\"black\" points=\"76.5,-545.34 68.68,-538.19 70.34,-548.66 76.5,-545.34\"/>\n<text text-anchor=\"middle\" x=\"60.78\" y=\"-557.11\" font-family=\"Helvetica,sans-Serif\" font-size=\"14.00\">True</text>\n</g>\n<!-- 2 -->\n<g id=\"node3\" class=\"node\">\n<title>2</title>\n<path fill=\"#d7ebfa\" stroke=\"black\" d=\"M222,-544C222,-544 130,-544 130,-544 124,-544 118,-538 118,-532 118,-532 118,-473 118,-473 118,-467 124,-461 130,-461 130,-461 222,-461 222,-461 228,-461 234,-467 234,-473 234,-473 234,-532 234,-532 234,-538 228,-544 222,-544\"/>\n<text text-anchor=\"start\" x=\"129\" y=\"-528.8\" font-family=\"Helvetica,sans-Serif\" font-size=\"14.00\">Incoming ≤ 1.5</text>\n<text text-anchor=\"start\" x=\"126\" y=\"-513.8\" font-family=\"Helvetica,sans-Serif\" font-size=\"14.00\">entropy = 0.991</text>\n<text text-anchor=\"start\" x=\"136.5\" y=\"-498.8\" font-family=\"Helvetica,sans-Serif\" font-size=\"14.00\">samples = 9</text>\n<text text-anchor=\"start\" x=\"135.5\" y=\"-483.8\" font-family=\"Helvetica,sans-Serif\" font-size=\"14.00\">value = [4, 5]</text>\n<text text-anchor=\"start\" x=\"147.5\" y=\"-468.8\" font-family=\"Helvetica,sans-Serif\" font-size=\"14.00\">class = u</text>\n</g>\n<!-- 0&#45;&gt;2 -->\n<g id=\"edge2\" class=\"edge\">\n<title>0&#45;&gt;2</title>\n<path fill=\"none\" stroke=\"black\" d=\"M135.03,-579.58C139.42,-571.43 144.08,-562.77 148.63,-554.34\"/>\n<polygon fill=\"black\" stroke=\"black\" points=\"151.71,-556 153.37,-545.53 145.54,-552.68 151.71,-556\"/>\n<text text-anchor=\"middle\" x=\"161.27\" y=\"-564.45\" font-family=\"Helvetica,sans-Serif\" font-size=\"14.00\">False</text>\n</g>\n<!-- 3 -->\n<g id=\"node4\" class=\"node\">\n<title>3</title>\n<path fill=\"#e58139\" stroke=\"black\" d=\"M151,-417.5C151,-417.5 75,-417.5 75,-417.5 69,-417.5 63,-411.5 63,-405.5 63,-405.5 63,-361.5 63,-361.5 63,-355.5 69,-349.5 75,-349.5 75,-349.5 151,-349.5 151,-349.5 157,-349.5 163,-355.5 163,-361.5 163,-361.5 163,-405.5 163,-405.5 163,-411.5 157,-417.5 151,-417.5\"/>\n<text text-anchor=\"start\" x=\"71\" y=\"-402.3\" font-family=\"Helvetica,sans-Serif\" font-size=\"14.00\">entropy = 0.0</text>\n<text text-anchor=\"start\" x=\"73.5\" y=\"-387.3\" font-family=\"Helvetica,sans-Serif\" font-size=\"14.00\">samples = 2</text>\n<text text-anchor=\"start\" x=\"72.5\" y=\"-372.3\" font-family=\"Helvetica,sans-Serif\" font-size=\"14.00\">value = [2, 0]</text>\n<text text-anchor=\"start\" x=\"83.5\" y=\"-357.3\" font-family=\"Helvetica,sans-Serif\" font-size=\"14.00\">class = B</text>\n</g>\n<!-- 2&#45;&gt;3 -->\n<g id=\"edge3\" class=\"edge\">\n<title>2&#45;&gt;3</title>\n<path fill=\"none\" stroke=\"black\" d=\"M153.97,-460.58C148.27,-449.99 142.11,-438.56 136.34,-427.85\"/>\n<polygon fill=\"black\" stroke=\"black\" points=\"139.5,-426.34 131.68,-419.19 133.34,-429.66 139.5,-426.34\"/>\n</g>\n<!-- 4 -->\n<g id=\"node5\" class=\"node\">\n<title>4</title>\n<path fill=\"#88c4ef\" stroke=\"black\" d=\"M285,-425C285,-425 193,-425 193,-425 187,-425 181,-419 181,-413 181,-413 181,-354 181,-354 181,-348 187,-342 193,-342 193,-342 285,-342 285,-342 291,-342 297,-348 297,-354 297,-354 297,-413 297,-413 297,-419 291,-425 285,-425\"/>\n<text text-anchor=\"start\" x=\"196.5\" y=\"-409.8\" font-family=\"Helvetica,sans-Serif\" font-size=\"14.00\">Student ≤ 1.5</text>\n<text text-anchor=\"start\" x=\"189\" y=\"-394.8\" font-family=\"Helvetica,sans-Serif\" font-size=\"14.00\">entropy = 0.863</text>\n<text text-anchor=\"start\" x=\"199.5\" y=\"-379.8\" font-family=\"Helvetica,sans-Serif\" font-size=\"14.00\">samples = 7</text>\n<text text-anchor=\"start\" x=\"198.5\" y=\"-364.8\" font-family=\"Helvetica,sans-Serif\" font-size=\"14.00\">value = [2, 5]</text>\n<text text-anchor=\"start\" x=\"210.5\" y=\"-349.8\" font-family=\"Helvetica,sans-Serif\" font-size=\"14.00\">class = u</text>\n</g>\n<!-- 2&#45;&gt;4 -->\n<g id=\"edge4\" class=\"edge\">\n<title>2&#45;&gt;4</title>\n<path fill=\"none\" stroke=\"black\" d=\"M198.03,-460.58C202.42,-452.43 207.08,-443.77 211.63,-435.34\"/>\n<polygon fill=\"black\" stroke=\"black\" points=\"214.71,-437 216.37,-426.53 208.54,-433.68 214.71,-437\"/>\n</g>\n<!-- 5 -->\n<g id=\"node6\" class=\"node\">\n<title>5</title>\n<path fill=\"#ffffff\" stroke=\"black\" d=\"M209,-306C209,-306 133,-306 133,-306 127,-306 121,-300 121,-294 121,-294 121,-235 121,-235 121,-229 127,-223 133,-223 133,-223 209,-223 209,-223 215,-223 221,-229 221,-235 221,-235 221,-294 221,-294 221,-300 215,-306 209,-306\"/>\n<text text-anchor=\"start\" x=\"140\" y=\"-290.8\" font-family=\"Helvetica,sans-Serif\" font-size=\"14.00\">Age ≤ 2.5</text>\n<text text-anchor=\"start\" x=\"129\" y=\"-275.8\" font-family=\"Helvetica,sans-Serif\" font-size=\"14.00\">entropy = 1.0</text>\n<text text-anchor=\"start\" x=\"131.5\" y=\"-260.8\" font-family=\"Helvetica,sans-Serif\" font-size=\"14.00\">samples = 2</text>\n<text text-anchor=\"start\" x=\"130.5\" y=\"-245.8\" font-family=\"Helvetica,sans-Serif\" font-size=\"14.00\">value = [1, 1]</text>\n<text text-anchor=\"start\" x=\"141.5\" y=\"-230.8\" font-family=\"Helvetica,sans-Serif\" font-size=\"14.00\">class = B</text>\n</g>\n<!-- 4&#45;&gt;5 -->\n<g id=\"edge5\" class=\"edge\">\n<title>4&#45;&gt;5</title>\n<path fill=\"none\" stroke=\"black\" d=\"M215.22,-341.58C210.43,-333.34 205.34,-324.58 200.38,-316.06\"/>\n<polygon fill=\"black\" stroke=\"black\" points=\"203.47,-314.4 195.42,-307.51 197.41,-317.91 203.47,-314.4\"/>\n</g>\n<!-- 8 -->\n<g id=\"node9\" class=\"node\">\n<title>8</title>\n<path fill=\"#6ab6ec\" stroke=\"black\" d=\"M361,-306C361,-306 251,-306 251,-306 245,-306 239,-300 239,-294 239,-294 239,-235 239,-235 239,-229 245,-223 251,-223 251,-223 361,-223 361,-223 367,-223 373,-229 373,-235 373,-235 373,-294 373,-294 373,-300 367,-306 361,-306\"/>\n<text text-anchor=\"start\" x=\"247\" y=\"-290.8\" font-family=\"Helvetica,sans-Serif\" font-size=\"14.00\">Credit Rating ≤ 1.5</text>\n<text text-anchor=\"start\" x=\"256\" y=\"-275.8\" font-family=\"Helvetica,sans-Serif\" font-size=\"14.00\">entropy = 0.722</text>\n<text text-anchor=\"start\" x=\"266.5\" y=\"-260.8\" font-family=\"Helvetica,sans-Serif\" font-size=\"14.00\">samples = 5</text>\n<text text-anchor=\"start\" x=\"265.5\" y=\"-245.8\" font-family=\"Helvetica,sans-Serif\" font-size=\"14.00\">value = [1, 4]</text>\n<text text-anchor=\"start\" x=\"277.5\" y=\"-230.8\" font-family=\"Helvetica,sans-Serif\" font-size=\"14.00\">class = u</text>\n</g>\n<!-- 4&#45;&gt;8 -->\n<g id=\"edge8\" class=\"edge\">\n<title>4&#45;&gt;8</title>\n<path fill=\"none\" stroke=\"black\" d=\"M262.43,-341.58C267.15,-333.34 272.17,-324.58 277.05,-316.06\"/>\n<polygon fill=\"black\" stroke=\"black\" points=\"280.01,-317.93 281.94,-307.51 273.93,-314.45 280.01,-317.93\"/>\n</g>\n<!-- 6 -->\n<g id=\"node7\" class=\"node\">\n<title>6</title>\n<path fill=\"#e58139\" stroke=\"black\" d=\"M94,-179.5C94,-179.5 18,-179.5 18,-179.5 12,-179.5 6,-173.5 6,-167.5 6,-167.5 6,-123.5 6,-123.5 6,-117.5 12,-111.5 18,-111.5 18,-111.5 94,-111.5 94,-111.5 100,-111.5 106,-117.5 106,-123.5 106,-123.5 106,-167.5 106,-167.5 106,-173.5 100,-179.5 94,-179.5\"/>\n<text text-anchor=\"start\" x=\"14\" y=\"-164.3\" font-family=\"Helvetica,sans-Serif\" font-size=\"14.00\">entropy = 0.0</text>\n<text text-anchor=\"start\" x=\"16.5\" y=\"-149.3\" font-family=\"Helvetica,sans-Serif\" font-size=\"14.00\">samples = 1</text>\n<text text-anchor=\"start\" x=\"15.5\" y=\"-134.3\" font-family=\"Helvetica,sans-Serif\" font-size=\"14.00\">value = [1, 0]</text>\n<text text-anchor=\"start\" x=\"26.5\" y=\"-119.3\" font-family=\"Helvetica,sans-Serif\" font-size=\"14.00\">class = B</text>\n</g>\n<!-- 5&#45;&gt;6 -->\n<g id=\"edge6\" class=\"edge\">\n<title>5&#45;&gt;6</title>\n<path fill=\"none\" stroke=\"black\" d=\"M130.78,-222.58C119.73,-211.34 107.74,-199.14 96.67,-187.87\"/>\n<polygon fill=\"black\" stroke=\"black\" points=\"99.36,-185.62 89.85,-180.94 94.37,-190.53 99.36,-185.62\"/>\n</g>\n<!-- 7 -->\n<g id=\"node8\" class=\"node\">\n<title>7</title>\n<path fill=\"#399de5\" stroke=\"black\" d=\"M212,-179.5C212,-179.5 136,-179.5 136,-179.5 130,-179.5 124,-173.5 124,-167.5 124,-167.5 124,-123.5 124,-123.5 124,-117.5 130,-111.5 136,-111.5 136,-111.5 212,-111.5 212,-111.5 218,-111.5 224,-117.5 224,-123.5 224,-123.5 224,-167.5 224,-167.5 224,-173.5 218,-179.5 212,-179.5\"/>\n<text text-anchor=\"start\" x=\"132\" y=\"-164.3\" font-family=\"Helvetica,sans-Serif\" font-size=\"14.00\">entropy = 0.0</text>\n<text text-anchor=\"start\" x=\"134.5\" y=\"-149.3\" font-family=\"Helvetica,sans-Serif\" font-size=\"14.00\">samples = 1</text>\n<text text-anchor=\"start\" x=\"133.5\" y=\"-134.3\" font-family=\"Helvetica,sans-Serif\" font-size=\"14.00\">value = [0, 1]</text>\n<text text-anchor=\"start\" x=\"145.5\" y=\"-119.3\" font-family=\"Helvetica,sans-Serif\" font-size=\"14.00\">class = u</text>\n</g>\n<!-- 5&#45;&gt;7 -->\n<g id=\"edge7\" class=\"edge\">\n<title>5&#45;&gt;7</title>\n<path fill=\"none\" stroke=\"black\" d=\"M172.05,-222.58C172.31,-212.43 172.59,-201.5 172.85,-191.18\"/>\n<polygon fill=\"black\" stroke=\"black\" points=\"176.35,-191.46 173.11,-181.37 169.35,-191.28 176.35,-191.46\"/>\n</g>\n<!-- 9 -->\n<g id=\"node10\" class=\"node\">\n<title>9</title>\n<path fill=\"#ffffff\" stroke=\"black\" d=\"M346,-187C346,-187 260,-187 260,-187 254,-187 248,-181 248,-175 248,-175 248,-116 248,-116 248,-110 254,-104 260,-104 260,-104 346,-104 346,-104 352,-104 358,-110 358,-116 358,-116 358,-175 358,-175 358,-181 352,-187 346,-187\"/>\n<text text-anchor=\"start\" x=\"256\" y=\"-171.8\" font-family=\"Helvetica,sans-Serif\" font-size=\"14.00\">Incoming ≤ 2.5</text>\n<text text-anchor=\"start\" x=\"261\" y=\"-156.8\" font-family=\"Helvetica,sans-Serif\" font-size=\"14.00\">entropy = 1.0</text>\n<text text-anchor=\"start\" x=\"263.5\" y=\"-141.8\" font-family=\"Helvetica,sans-Serif\" font-size=\"14.00\">samples = 2</text>\n<text text-anchor=\"start\" x=\"262.5\" y=\"-126.8\" font-family=\"Helvetica,sans-Serif\" font-size=\"14.00\">value = [1, 1]</text>\n<text text-anchor=\"start\" x=\"273.5\" y=\"-111.8\" font-family=\"Helvetica,sans-Serif\" font-size=\"14.00\">class = B</text>\n</g>\n<!-- 8&#45;&gt;9 -->\n<g id=\"edge9\" class=\"edge\">\n<title>8&#45;&gt;9</title>\n<path fill=\"none\" stroke=\"black\" d=\"M304.95,-222.58C304.75,-214.79 304.54,-206.53 304.33,-198.45\"/>\n<polygon fill=\"black\" stroke=\"black\" points=\"307.84,-198.62 304.08,-188.71 300.84,-198.8 307.84,-198.62\"/>\n</g>\n<!-- 12 -->\n<g id=\"node13\" class=\"node\">\n<title>12</title>\n<path fill=\"#399de5\" stroke=\"black\" d=\"M464,-179.5C464,-179.5 388,-179.5 388,-179.5 382,-179.5 376,-173.5 376,-167.5 376,-167.5 376,-123.5 376,-123.5 376,-117.5 382,-111.5 388,-111.5 388,-111.5 464,-111.5 464,-111.5 470,-111.5 476,-117.5 476,-123.5 476,-123.5 476,-167.5 476,-167.5 476,-173.5 470,-179.5 464,-179.5\"/>\n<text text-anchor=\"start\" x=\"384\" y=\"-164.3\" font-family=\"Helvetica,sans-Serif\" font-size=\"14.00\">entropy = 0.0</text>\n<text text-anchor=\"start\" x=\"386.5\" y=\"-149.3\" font-family=\"Helvetica,sans-Serif\" font-size=\"14.00\">samples = 3</text>\n<text text-anchor=\"start\" x=\"385.5\" y=\"-134.3\" font-family=\"Helvetica,sans-Serif\" font-size=\"14.00\">value = [0, 3]</text>\n<text text-anchor=\"start\" x=\"397.5\" y=\"-119.3\" font-family=\"Helvetica,sans-Serif\" font-size=\"14.00\">class = u</text>\n</g>\n<!-- 8&#45;&gt;12 -->\n<g id=\"edge12\" class=\"edge\">\n<title>8&#45;&gt;12</title>\n<path fill=\"none\" stroke=\"black\" d=\"M347.97,-222.58C359.5,-211.34 372.01,-199.14 383.57,-187.87\"/>\n<polygon fill=\"black\" stroke=\"black\" points=\"385.98,-190.4 390.7,-180.92 381.1,-185.39 385.98,-190.4\"/>\n</g>\n<!-- 10 -->\n<g id=\"node11\" class=\"node\">\n<title>10</title>\n<path fill=\"#399de5\" stroke=\"black\" d=\"M282,-68C282,-68 206,-68 206,-68 200,-68 194,-62 194,-56 194,-56 194,-12 194,-12 194,-6 200,0 206,0 206,0 282,0 282,0 288,0 294,-6 294,-12 294,-12 294,-56 294,-56 294,-62 288,-68 282,-68\"/>\n<text text-anchor=\"start\" x=\"202\" y=\"-52.8\" font-family=\"Helvetica,sans-Serif\" font-size=\"14.00\">entropy = 0.0</text>\n<text text-anchor=\"start\" x=\"204.5\" y=\"-37.8\" font-family=\"Helvetica,sans-Serif\" font-size=\"14.00\">samples = 1</text>\n<text text-anchor=\"start\" x=\"203.5\" y=\"-22.8\" font-family=\"Helvetica,sans-Serif\" font-size=\"14.00\">value = [0, 1]</text>\n<text text-anchor=\"start\" x=\"215.5\" y=\"-7.8\" font-family=\"Helvetica,sans-Serif\" font-size=\"14.00\">class = u</text>\n</g>\n<!-- 9&#45;&gt;10 -->\n<g id=\"edge10\" class=\"edge\">\n<title>9&#45;&gt;10</title>\n<path fill=\"none\" stroke=\"black\" d=\"M281.03,-103.73C276.56,-95.43 271.84,-86.67 267.32,-78.28\"/>\n<polygon fill=\"black\" stroke=\"black\" points=\"270.48,-76.78 262.66,-69.63 264.32,-80.1 270.48,-76.78\"/>\n</g>\n<!-- 11 -->\n<g id=\"node12\" class=\"node\">\n<title>11</title>\n<path fill=\"#e58139\" stroke=\"black\" d=\"M400,-68C400,-68 324,-68 324,-68 318,-68 312,-62 312,-56 312,-56 312,-12 312,-12 312,-6 318,0 324,0 324,0 400,0 400,0 406,0 412,-6 412,-12 412,-12 412,-56 412,-56 412,-62 406,-68 400,-68\"/>\n<text text-anchor=\"start\" x=\"320\" y=\"-52.8\" font-family=\"Helvetica,sans-Serif\" font-size=\"14.00\">entropy = 0.0</text>\n<text text-anchor=\"start\" x=\"322.5\" y=\"-37.8\" font-family=\"Helvetica,sans-Serif\" font-size=\"14.00\">samples = 1</text>\n<text text-anchor=\"start\" x=\"321.5\" y=\"-22.8\" font-family=\"Helvetica,sans-Serif\" font-size=\"14.00\">value = [1, 0]</text>\n<text text-anchor=\"start\" x=\"332.5\" y=\"-7.8\" font-family=\"Helvetica,sans-Serif\" font-size=\"14.00\">class = B</text>\n</g>\n<!-- 9&#45;&gt;11 -->\n<g id=\"edge11\" class=\"edge\">\n<title>9&#45;&gt;11</title>\n<path fill=\"none\" stroke=\"black\" d=\"M324.97,-103.73C329.44,-95.43 334.16,-86.67 338.68,-78.28\"/>\n<polygon fill=\"black\" stroke=\"black\" points=\"341.68,-80.1 343.34,-69.63 335.52,-76.78 341.68,-80.1\"/>\n</g>\n</g>\n</svg>\n",
      "text/plain": "<graphviz.sources.Source at 0x217537abbe0>"
     },
     "execution_count": 63,
     "metadata": {},
     "output_type": "execute_result"
    }
   ],
   "source": [
    "import graphviz\n",
    "\n",
    "\n",
    "def plot_tree(clf, feature_names, target_names):\n",
    "    dot_data = tree.export_graphviz(clf, out_file=None,\n",
    "                                    feature_names=feature_names,\n",
    "                                    class_names=target_names,\n",
    "                                    filled=True, rounded=True,\n",
    "                                    special_characters=True)\n",
    "    graph = graphviz.Source(dot_data)\n",
    "    graph.render('graph')\n",
    "    return graph\n",
    "\n",
    "\n",
    "plot_tree(clf, A, 'Buying')"
   ],
   "metadata": {
    "collapsed": false
   }
  },
  {
   "cell_type": "code",
   "execution_count": 43,
   "outputs": [
    {
     "name": "stdout",
     "output_type": "stream",
     "text": [
      "Age信息增益：0.2674250655956548\n",
      "Incoming信息增益：0.05551064235231107\n",
      "Student信息增益：0.11036014405977657\n",
      "Credit Rating信息增益：0.01780102730053701\n",
      "Buying信息增益：0.8904916402194913\n"
     ]
    }
   ],
   "source": [
    "import numpy as np\n",
    "\n",
    "\n",
    "# 定义计算信息熵的函数：计算Infor(D)\n",
    "def infor(data):\n",
    "    a = pd.value_counts(data) / len(data)\n",
    "    return sum(np.log2(a) * a * (-1))\n",
    "\n",
    "\n",
    "# 定义计算信息增益的函数：计算g(D|A)\n",
    "def g(data, str1, str2):\n",
    "    e1 = data.groupby(str1).apply(lambda x: infor(x[str2]))\n",
    "    p1 = pd.value_counts(data[str1]) / len(data[str1])\n",
    "    # 计算Infor(D|A)\n",
    "    e2 = sum(e1 * p1)\n",
    "    gain = infor(data[str2]) - e2\n",
    "    print(f\"{str1}信息增益：{gain}\")\n",
    "    return gain\n",
    "\n",
    "\n",
    "for col in dataframe.columns:\n",
    "    g(dataframe, col, 'Buying')"
   ],
   "metadata": {
    "collapsed": false
   }
  },
  {
   "cell_type": "code",
   "execution_count": 44,
   "outputs": [
    {
     "data": {
      "text/plain": "         Age  Incoming  Student  Credit Rating  Buying\nUser id                                               \n1          1         1        1              2       1\n2          1         1        1              1       1\n4          3         2        1              2       2\n5          3         3        2              2       2\n6          3         3        2              1       1\n8          1         2        1              2       1\n9          1         3        2              2       2\n10         3         2        2              2       2\n11         1         2        2              1       2",
      "text/html": "<div>\n<style scoped>\n    .dataframe tbody tr th:only-of-type {\n        vertical-align: middle;\n    }\n\n    .dataframe tbody tr th {\n        vertical-align: top;\n    }\n\n    .dataframe thead th {\n        text-align: right;\n    }\n</style>\n<table border=\"1\" class=\"dataframe\">\n  <thead>\n    <tr style=\"text-align: right;\">\n      <th></th>\n      <th>Age</th>\n      <th>Incoming</th>\n      <th>Student</th>\n      <th>Credit Rating</th>\n      <th>Buying</th>\n    </tr>\n    <tr>\n      <th>User id</th>\n      <th></th>\n      <th></th>\n      <th></th>\n      <th></th>\n      <th></th>\n    </tr>\n  </thead>\n  <tbody>\n    <tr>\n      <th>1</th>\n      <td>1</td>\n      <td>1</td>\n      <td>1</td>\n      <td>2</td>\n      <td>1</td>\n    </tr>\n    <tr>\n      <th>2</th>\n      <td>1</td>\n      <td>1</td>\n      <td>1</td>\n      <td>1</td>\n      <td>1</td>\n    </tr>\n    <tr>\n      <th>4</th>\n      <td>3</td>\n      <td>2</td>\n      <td>1</td>\n      <td>2</td>\n      <td>2</td>\n    </tr>\n    <tr>\n      <th>5</th>\n      <td>3</td>\n      <td>3</td>\n      <td>2</td>\n      <td>2</td>\n      <td>2</td>\n    </tr>\n    <tr>\n      <th>6</th>\n      <td>3</td>\n      <td>3</td>\n      <td>2</td>\n      <td>1</td>\n      <td>1</td>\n    </tr>\n    <tr>\n      <th>8</th>\n      <td>1</td>\n      <td>2</td>\n      <td>1</td>\n      <td>2</td>\n      <td>1</td>\n    </tr>\n    <tr>\n      <th>9</th>\n      <td>1</td>\n      <td>3</td>\n      <td>2</td>\n      <td>2</td>\n      <td>2</td>\n    </tr>\n    <tr>\n      <th>10</th>\n      <td>3</td>\n      <td>2</td>\n      <td>2</td>\n      <td>2</td>\n      <td>2</td>\n    </tr>\n    <tr>\n      <th>11</th>\n      <td>1</td>\n      <td>2</td>\n      <td>2</td>\n      <td>1</td>\n      <td>2</td>\n    </tr>\n  </tbody>\n</table>\n</div>"
     },
     "execution_count": 44,
     "metadata": {},
     "output_type": "execute_result"
    }
   ],
   "source": [
    "dataframe.drop(dataframe[dataframe['Age'] == 2].index, inplace=True)\n",
    "dataframe"
   ],
   "metadata": {
    "collapsed": false
   }
  },
  {
   "cell_type": "code",
   "execution_count": 45,
   "outputs": [
    {
     "name": "stdout",
     "output_type": "stream",
     "text": [
      "Age信息增益：0.09109100760379174\n",
      "Incoming信息增益：0.3244093931715556\n",
      "Student信息增益：0.22943684069673975\n",
      "Credit Rating信息增益：0.07278022578373267\n",
      "Buying信息增益：0.9910760598382222\n"
     ]
    }
   ],
   "source": [
    "for col in dataframe.columns:\n",
    "    g(dataframe, col, 'Buying')"
   ],
   "metadata": {
    "collapsed": false
   }
  },
  {
   "cell_type": "code",
   "execution_count": 46,
   "outputs": [
    {
     "data": {
      "text/plain": "         Age  Incoming  Student  Credit Rating  Buying\nUser id                                               \n4          3         2        1              2       2\n5          3         3        2              2       2\n6          3         3        2              1       1\n8          1         2        1              2       1\n9          1         3        2              2       2\n10         3         2        2              2       2\n11         1         2        2              1       2",
      "text/html": "<div>\n<style scoped>\n    .dataframe tbody tr th:only-of-type {\n        vertical-align: middle;\n    }\n\n    .dataframe tbody tr th {\n        vertical-align: top;\n    }\n\n    .dataframe thead th {\n        text-align: right;\n    }\n</style>\n<table border=\"1\" class=\"dataframe\">\n  <thead>\n    <tr style=\"text-align: right;\">\n      <th></th>\n      <th>Age</th>\n      <th>Incoming</th>\n      <th>Student</th>\n      <th>Credit Rating</th>\n      <th>Buying</th>\n    </tr>\n    <tr>\n      <th>User id</th>\n      <th></th>\n      <th></th>\n      <th></th>\n      <th></th>\n      <th></th>\n    </tr>\n  </thead>\n  <tbody>\n    <tr>\n      <th>4</th>\n      <td>3</td>\n      <td>2</td>\n      <td>1</td>\n      <td>2</td>\n      <td>2</td>\n    </tr>\n    <tr>\n      <th>5</th>\n      <td>3</td>\n      <td>3</td>\n      <td>2</td>\n      <td>2</td>\n      <td>2</td>\n    </tr>\n    <tr>\n      <th>6</th>\n      <td>3</td>\n      <td>3</td>\n      <td>2</td>\n      <td>1</td>\n      <td>1</td>\n    </tr>\n    <tr>\n      <th>8</th>\n      <td>1</td>\n      <td>2</td>\n      <td>1</td>\n      <td>2</td>\n      <td>1</td>\n    </tr>\n    <tr>\n      <th>9</th>\n      <td>1</td>\n      <td>3</td>\n      <td>2</td>\n      <td>2</td>\n      <td>2</td>\n    </tr>\n    <tr>\n      <th>10</th>\n      <td>3</td>\n      <td>2</td>\n      <td>2</td>\n      <td>2</td>\n      <td>2</td>\n    </tr>\n    <tr>\n      <th>11</th>\n      <td>1</td>\n      <td>2</td>\n      <td>2</td>\n      <td>1</td>\n      <td>2</td>\n    </tr>\n  </tbody>\n</table>\n</div>"
     },
     "execution_count": 46,
     "metadata": {},
     "output_type": "execute_result"
    }
   ],
   "source": [
    "dataframe.drop(dataframe[dataframe['Incoming'] == 1].index, inplace=True)\n",
    "dataframe"
   ],
   "metadata": {
    "collapsed": false
   }
  },
  {
   "cell_type": "code",
   "execution_count": 47,
   "outputs": [
    {
     "name": "stdout",
     "output_type": "stream",
     "text": [
      "Age信息增益：0.0059777114237739015\n",
      "Incoming信息增益：0.0059777114237739015\n",
      "Student信息增益：0.061743357932800724\n",
      "Credit Rating信息增益：0.061743357932800724\n",
      "Buying信息增益：0.863120568566631\n"
     ]
    }
   ],
   "source": [
    "for col in dataframe.columns:\n",
    "    g(dataframe, col, 'Buying')"
   ],
   "metadata": {
    "collapsed": false
   }
  },
  {
   "cell_type": "code",
   "execution_count": 48,
   "outputs": [
    {
     "data": {
      "text/plain": "         Age  Incoming  Student  Credit Rating  Buying\nUser id                                               \n5          3         3        2              2       2\n6          3         3        2              1       1\n9          1         3        2              2       2\n10         3         2        2              2       2\n11         1         2        2              1       2",
      "text/html": "<div>\n<style scoped>\n    .dataframe tbody tr th:only-of-type {\n        vertical-align: middle;\n    }\n\n    .dataframe tbody tr th {\n        vertical-align: top;\n    }\n\n    .dataframe thead th {\n        text-align: right;\n    }\n</style>\n<table border=\"1\" class=\"dataframe\">\n  <thead>\n    <tr style=\"text-align: right;\">\n      <th></th>\n      <th>Age</th>\n      <th>Incoming</th>\n      <th>Student</th>\n      <th>Credit Rating</th>\n      <th>Buying</th>\n    </tr>\n    <tr>\n      <th>User id</th>\n      <th></th>\n      <th></th>\n      <th></th>\n      <th></th>\n      <th></th>\n    </tr>\n  </thead>\n  <tbody>\n    <tr>\n      <th>5</th>\n      <td>3</td>\n      <td>3</td>\n      <td>2</td>\n      <td>2</td>\n      <td>2</td>\n    </tr>\n    <tr>\n      <th>6</th>\n      <td>3</td>\n      <td>3</td>\n      <td>2</td>\n      <td>1</td>\n      <td>1</td>\n    </tr>\n    <tr>\n      <th>9</th>\n      <td>1</td>\n      <td>3</td>\n      <td>2</td>\n      <td>2</td>\n      <td>2</td>\n    </tr>\n    <tr>\n      <th>10</th>\n      <td>3</td>\n      <td>2</td>\n      <td>2</td>\n      <td>2</td>\n      <td>2</td>\n    </tr>\n    <tr>\n      <th>11</th>\n      <td>1</td>\n      <td>2</td>\n      <td>2</td>\n      <td>1</td>\n      <td>2</td>\n    </tr>\n  </tbody>\n</table>\n</div>"
     },
     "execution_count": 48,
     "metadata": {},
     "output_type": "execute_result"
    }
   ],
   "source": [
    "Student = dataframe[dataframe['Student'] == 2]\n",
    "Student"
   ],
   "metadata": {
    "collapsed": false
   }
  },
  {
   "cell_type": "code",
   "execution_count": 50,
   "outputs": [
    {
     "name": "stdout",
     "output_type": "stream",
     "text": [
      "Age信息增益：0.17095059445466865\n",
      "Incoming信息增益：0.17095059445466865\n",
      "Student信息增益：0.0\n",
      "Credit Rating信息增益：0.3219280948873623\n",
      "Buying信息增益：0.7219280948873623\n"
     ]
    }
   ],
   "source": [
    "for col in dataframe.columns:\n",
    "    g(Student, col, 'Buying')"
   ],
   "metadata": {
    "collapsed": false
   }
  },
  {
   "cell_type": "code",
   "execution_count": 51,
   "outputs": [
    {
     "data": {
      "text/plain": "         Age  Incoming  Student  Credit Rating  Buying\nUser id                                               \n6          3         3        2              1       1\n11         1         2        2              1       2",
      "text/html": "<div>\n<style scoped>\n    .dataframe tbody tr th:only-of-type {\n        vertical-align: middle;\n    }\n\n    .dataframe tbody tr th {\n        vertical-align: top;\n    }\n\n    .dataframe thead th {\n        text-align: right;\n    }\n</style>\n<table border=\"1\" class=\"dataframe\">\n  <thead>\n    <tr style=\"text-align: right;\">\n      <th></th>\n      <th>Age</th>\n      <th>Incoming</th>\n      <th>Student</th>\n      <th>Credit Rating</th>\n      <th>Buying</th>\n    </tr>\n    <tr>\n      <th>User id</th>\n      <th></th>\n      <th></th>\n      <th></th>\n      <th></th>\n      <th></th>\n    </tr>\n  </thead>\n  <tbody>\n    <tr>\n      <th>6</th>\n      <td>3</td>\n      <td>3</td>\n      <td>2</td>\n      <td>1</td>\n      <td>1</td>\n    </tr>\n    <tr>\n      <th>11</th>\n      <td>1</td>\n      <td>2</td>\n      <td>2</td>\n      <td>1</td>\n      <td>2</td>\n    </tr>\n  </tbody>\n</table>\n</div>"
     },
     "execution_count": 51,
     "metadata": {},
     "output_type": "execute_result"
    }
   ],
   "source": [
    "Student = Student[Student['Credit Rating'] == 1]\n",
    "Student"
   ],
   "metadata": {
    "collapsed": false
   }
  },
  {
   "cell_type": "code",
   "execution_count": 52,
   "outputs": [
    {
     "name": "stdout",
     "output_type": "stream",
     "text": [
      "Age信息增益：1.0\n",
      "Incoming信息增益：1.0\n",
      "Student信息增益：0.0\n",
      "Credit Rating信息增益：0.0\n",
      "Buying信息增益：1.0\n"
     ]
    }
   ],
   "source": [
    "for col in dataframe.columns:\n",
    "    g(Student, col, 'Buying')"
   ],
   "metadata": {
    "collapsed": false
   }
  },
  {
   "cell_type": "code",
   "execution_count": 53,
   "outputs": [
    {
     "data": {
      "text/plain": "         Age  Incoming  Student  Credit Rating  Buying\nUser id                                               \n4          3         2        1              2       2\n8          1         2        1              2       1",
      "text/html": "<div>\n<style scoped>\n    .dataframe tbody tr th:only-of-type {\n        vertical-align: middle;\n    }\n\n    .dataframe tbody tr th {\n        vertical-align: top;\n    }\n\n    .dataframe thead th {\n        text-align: right;\n    }\n</style>\n<table border=\"1\" class=\"dataframe\">\n  <thead>\n    <tr style=\"text-align: right;\">\n      <th></th>\n      <th>Age</th>\n      <th>Incoming</th>\n      <th>Student</th>\n      <th>Credit Rating</th>\n      <th>Buying</th>\n    </tr>\n    <tr>\n      <th>User id</th>\n      <th></th>\n      <th></th>\n      <th></th>\n      <th></th>\n      <th></th>\n    </tr>\n  </thead>\n  <tbody>\n    <tr>\n      <th>4</th>\n      <td>3</td>\n      <td>2</td>\n      <td>1</td>\n      <td>2</td>\n      <td>2</td>\n    </tr>\n    <tr>\n      <th>8</th>\n      <td>1</td>\n      <td>2</td>\n      <td>1</td>\n      <td>2</td>\n      <td>1</td>\n    </tr>\n  </tbody>\n</table>\n</div>"
     },
     "execution_count": 53,
     "metadata": {},
     "output_type": "execute_result"
    }
   ],
   "source": [
    "NoStudent = dataframe[dataframe['Student'] == 1]\n",
    "NoStudent"
   ],
   "metadata": {
    "collapsed": false
   }
  },
  {
   "cell_type": "code",
   "execution_count": 54,
   "outputs": [
    {
     "name": "stdout",
     "output_type": "stream",
     "text": [
      "Age信息增益：1.0\n",
      "Incoming信息增益：0.0\n",
      "Student信息增益：0.0\n",
      "Credit Rating信息增益：0.0\n",
      "Buying信息增益：1.0\n"
     ]
    }
   ],
   "source": [
    "for col in dataframe.columns:\n",
    "    g(NoStudent, col, 'Buying')"
   ],
   "metadata": {
    "collapsed": false
   }
  },
  {
   "cell_type": "code",
   "execution_count": null,
   "outputs": [],
   "source": [],
   "metadata": {
    "collapsed": false
   }
  }
 ],
 "metadata": {
  "kernelspec": {
   "display_name": "Python 3",
   "language": "python",
   "name": "python3"
  },
  "language_info": {
   "codemirror_mode": {
    "name": "ipython",
    "version": 2
   },
   "file_extension": ".py",
   "mimetype": "text/x-python",
   "name": "python",
   "nbconvert_exporter": "python",
   "pygments_lexer": "ipython2",
   "version": "2.7.6"
  }
 },
 "nbformat": 4,
 "nbformat_minor": 0
}
