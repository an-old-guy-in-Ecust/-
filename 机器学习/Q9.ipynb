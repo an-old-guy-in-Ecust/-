{
 "cells": [
  {
   "cell_type": "code",
   "execution_count": 72,
   "outputs": [
    {
     "name": "stdout",
     "output_type": "stream",
     "text": [
      "1500\n"
     ]
    },
    {
     "data": {
      "text/plain": "                                                subject  \\\n0     dobmeos with hgh my energy level has gone up !...   \n1             your prescription is ready . . oxwq s f e   \n2                                 get that new car 8434   \n3                                   await your response   \n4     coca cola , mbna america , nascar partner with...   \n...                                                 ...   \n5167                                    re : tenaska iv   \n5168                                   generic contract   \n5169                          re : contracts and credit   \n5170                                    re : tenaska iv   \n5171                                    re : tenaska iv   \n\n                                                content  spam  \n0     introducing\\ndoctor - formulated\\nhgh\\nhuman g...     1  \n1     low cost prescription medications\\nsoma , ultr...     1  \n2     people nowthe weather or climate in any partic...     1  \n3     dear partner ,\\nwe are a team of government of...     1  \n4     stock\\nprofile\\nabout\\ncompany\\ninvestment\\nhi...     1  \n...                                                 ...   ...  \n5167  i ' ll call you on thursday . . . what ' s a g...     0  \n5168  hi daren ,\\nsorry for the delay . here is a bl...     0  \n5169  thanks - - i ' ll include it in the master fil...     0  \n5170  ok , since we don ' t appear to be able to hoo...     0  \n5171  i tried calling you this am but your phone rol...     0  \n\n[5172 rows x 3 columns]",
      "text/html": "<div>\n<style scoped>\n    .dataframe tbody tr th:only-of-type {\n        vertical-align: middle;\n    }\n\n    .dataframe tbody tr th {\n        vertical-align: top;\n    }\n\n    .dataframe thead th {\n        text-align: right;\n    }\n</style>\n<table border=\"1\" class=\"dataframe\">\n  <thead>\n    <tr style=\"text-align: right;\">\n      <th></th>\n      <th>subject</th>\n      <th>content</th>\n      <th>spam</th>\n    </tr>\n  </thead>\n  <tbody>\n    <tr>\n      <th>0</th>\n      <td>dobmeos with hgh my energy level has gone up !...</td>\n      <td>introducing\\ndoctor - formulated\\nhgh\\nhuman g...</td>\n      <td>1</td>\n    </tr>\n    <tr>\n      <th>1</th>\n      <td>your prescription is ready . . oxwq s f e</td>\n      <td>low cost prescription medications\\nsoma , ultr...</td>\n      <td>1</td>\n    </tr>\n    <tr>\n      <th>2</th>\n      <td>get that new car 8434</td>\n      <td>people nowthe weather or climate in any partic...</td>\n      <td>1</td>\n    </tr>\n    <tr>\n      <th>3</th>\n      <td>await your response</td>\n      <td>dear partner ,\\nwe are a team of government of...</td>\n      <td>1</td>\n    </tr>\n    <tr>\n      <th>4</th>\n      <td>coca cola , mbna america , nascar partner with...</td>\n      <td>stock\\nprofile\\nabout\\ncompany\\ninvestment\\nhi...</td>\n      <td>1</td>\n    </tr>\n    <tr>\n      <th>...</th>\n      <td>...</td>\n      <td>...</td>\n      <td>...</td>\n    </tr>\n    <tr>\n      <th>5167</th>\n      <td>re : tenaska iv</td>\n      <td>i ' ll call you on thursday . . . what ' s a g...</td>\n      <td>0</td>\n    </tr>\n    <tr>\n      <th>5168</th>\n      <td>generic contract</td>\n      <td>hi daren ,\\nsorry for the delay . here is a bl...</td>\n      <td>0</td>\n    </tr>\n    <tr>\n      <th>5169</th>\n      <td>re : contracts and credit</td>\n      <td>thanks - - i ' ll include it in the master fil...</td>\n      <td>0</td>\n    </tr>\n    <tr>\n      <th>5170</th>\n      <td>re : tenaska iv</td>\n      <td>ok , since we don ' t appear to be able to hoo...</td>\n      <td>0</td>\n    </tr>\n    <tr>\n      <th>5171</th>\n      <td>re : tenaska iv</td>\n      <td>i tried calling you this am but your phone rol...</td>\n      <td>0</td>\n    </tr>\n  </tbody>\n</table>\n<p>5172 rows × 3 columns</p>\n</div>"
     },
     "execution_count": 72,
     "metadata": {},
     "output_type": "execute_result"
    }
   ],
   "source": [
    "import os\n",
    "import pandas as pd\n",
    "\n",
    "filepath = \"enron/enron1/\"\n",
    "text_data = {\"subject\": [], \"content\": [], \"spam\": []}\n",
    "for file in os.listdir(filepath + \"spam\"):\n",
    "    with open(filepath + \"spam/\" + file, \"r\", encoding='UTF-8', errors='ignore') as f:\n",
    "        lines = f.readlines()\n",
    "        text_data['subject'].append(lines[0][9:].replace(\"\\n\", \"\"))\n",
    "        text_data['content'].append(\"\".join(lines[1:]))\n",
    "        text_data[\"spam\"].append(1)\n",
    "\n",
    "for file in os.listdir(filepath + \"ham\"):\n",
    "    with open(filepath + \"ham/\" + file, \"r\", encoding='UTF-8') as f:\n",
    "        lines = f.readlines()\n",
    "        text_data['subject'].append(lines[0][9:].replace(\"\\n\", \"\"))\n",
    "        text_data['content'].append(\"\".join(lines[1:]))\n",
    "        text_data[\"spam\"].append(0)\n",
    "\n",
    "text_data = pd.DataFrame(text_data)\n",
    "print(sum(text_data[\"spam\"]))\n",
    "text_data"
   ],
   "metadata": {
    "collapsed": false
   }
  },
  {
   "cell_type": "code",
   "execution_count": 84,
   "outputs": [],
   "source": [
    "from sklearn.feature_extraction.text import TfidfVectorizer, CountVectorizer\n",
    "from sklearn.model_selection import train_test_split\n",
    "import numpy as np\n",
    "\n",
    "X_train_raw, X_test_raw, Y_train, Y_test = train_test_split(text_data[[\"subject\", 'content']], text_data[[\"spam\"]],\n",
    "                                                            test_size=0.2,\n",
    "                                                            random_state=2022)\n",
    "\n",
    "tv1 = TfidfVectorizer(max_features=5000)\n",
    "tv2 = CountVectorizer(max_features=5000)\n",
    "X_train_subject, X_train_content = tv1.fit_transform(X_train_raw[\"subject\"]).toarray(), tv2.fit_transform(\n",
    "    X_train_raw[\"content\"]).toarray()\n",
    "X_test_subject, X_test_content = tv1.transform(X_test_raw[\"subject\"]).toarray(), tv2.transform(\n",
    "    X_test_raw[\"content\"]).toarray()\n",
    "X_train = np.concatenate((X_train_subject, X_train_content), axis=1)\n",
    "X_test = np.concatenate((X_test_subject, X_test_content), axis=1)"
   ],
   "metadata": {
    "collapsed": false
   }
  },
  {
   "cell_type": "code",
   "execution_count": 91,
   "outputs": [
    {
     "name": "stderr",
     "output_type": "stream",
     "text": [
      "D:\\Python310\\lib\\site-packages\\sklearn\\model_selection\\_validation.py:686: DataConversionWarning: A column-vector y was passed when a 1d array was expected. Please change the shape of y to (n_samples,), for example using ravel().\n",
      "  estimator.fit(X_train, y_train, **fit_params)\n",
      "D:\\Python310\\lib\\site-packages\\sklearn\\model_selection\\_validation.py:686: DataConversionWarning: A column-vector y was passed when a 1d array was expected. Please change the shape of y to (n_samples,), for example using ravel().\n",
      "  estimator.fit(X_train, y_train, **fit_params)\n",
      "D:\\Python310\\lib\\site-packages\\sklearn\\model_selection\\_validation.py:686: DataConversionWarning: A column-vector y was passed when a 1d array was expected. Please change the shape of y to (n_samples,), for example using ravel().\n",
      "  estimator.fit(X_train, y_train, **fit_params)\n",
      "D:\\Python310\\lib\\site-packages\\sklearn\\model_selection\\_validation.py:686: DataConversionWarning: A column-vector y was passed when a 1d array was expected. Please change the shape of y to (n_samples,), for example using ravel().\n",
      "  estimator.fit(X_train, y_train, **fit_params)\n",
      "D:\\Python310\\lib\\site-packages\\sklearn\\model_selection\\_validation.py:686: DataConversionWarning: A column-vector y was passed when a 1d array was expected. Please change the shape of y to (n_samples,), for example using ravel().\n",
      "  estimator.fit(X_train, y_train, **fit_params)\n",
      "D:\\Python310\\lib\\site-packages\\sklearn\\model_selection\\_validation.py:686: DataConversionWarning: A column-vector y was passed when a 1d array was expected. Please change the shape of y to (n_samples,), for example using ravel().\n",
      "  estimator.fit(X_train, y_train, **fit_params)\n",
      "D:\\Python310\\lib\\site-packages\\sklearn\\model_selection\\_validation.py:686: DataConversionWarning: A column-vector y was passed when a 1d array was expected. Please change the shape of y to (n_samples,), for example using ravel().\n",
      "  estimator.fit(X_train, y_train, **fit_params)\n",
      "D:\\Python310\\lib\\site-packages\\sklearn\\model_selection\\_validation.py:686: DataConversionWarning: A column-vector y was passed when a 1d array was expected. Please change the shape of y to (n_samples,), for example using ravel().\n",
      "  estimator.fit(X_train, y_train, **fit_params)\n",
      "D:\\Python310\\lib\\site-packages\\sklearn\\model_selection\\_validation.py:686: DataConversionWarning: A column-vector y was passed when a 1d array was expected. Please change the shape of y to (n_samples,), for example using ravel().\n",
      "  estimator.fit(X_train, y_train, **fit_params)\n",
      "D:\\Python310\\lib\\site-packages\\sklearn\\model_selection\\_validation.py:686: DataConversionWarning: A column-vector y was passed when a 1d array was expected. Please change the shape of y to (n_samples,), for example using ravel().\n",
      "  estimator.fit(X_train, y_train, **fit_params)\n",
      "D:\\Python310\\lib\\site-packages\\sklearn\\model_selection\\_validation.py:686: DataConversionWarning: A column-vector y was passed when a 1d array was expected. Please change the shape of y to (n_samples,), for example using ravel().\n",
      "  estimator.fit(X_train, y_train, **fit_params)\n",
      "D:\\Python310\\lib\\site-packages\\sklearn\\model_selection\\_validation.py:686: DataConversionWarning: A column-vector y was passed when a 1d array was expected. Please change the shape of y to (n_samples,), for example using ravel().\n",
      "  estimator.fit(X_train, y_train, **fit_params)\n",
      "D:\\Python310\\lib\\site-packages\\sklearn\\model_selection\\_validation.py:686: DataConversionWarning: A column-vector y was passed when a 1d array was expected. Please change the shape of y to (n_samples,), for example using ravel().\n",
      "  estimator.fit(X_train, y_train, **fit_params)\n",
      "D:\\Python310\\lib\\site-packages\\sklearn\\model_selection\\_validation.py:686: DataConversionWarning: A column-vector y was passed when a 1d array was expected. Please change the shape of y to (n_samples,), for example using ravel().\n",
      "  estimator.fit(X_train, y_train, **fit_params)\n",
      "D:\\Python310\\lib\\site-packages\\sklearn\\model_selection\\_validation.py:686: DataConversionWarning: A column-vector y was passed when a 1d array was expected. Please change the shape of y to (n_samples,), for example using ravel().\n",
      "  estimator.fit(X_train, y_train, **fit_params)\n",
      "D:\\Python310\\lib\\site-packages\\sklearn\\model_selection\\_search.py:910: DataConversionWarning: A column-vector y was passed when a 1d array was expected. Please change the shape of y to (n_samples,), for example using ravel().\n",
      "  self.best_estimator_.fit(X, y, **fit_params)\n"
     ]
    },
    {
     "data": {
      "text/plain": "{'n_estimators': 200}"
     },
     "execution_count": 91,
     "metadata": {},
     "output_type": "execute_result"
    }
   ],
   "source": [
    "from sklearn.ensemble import RandomForestClassifier\n",
    "\n",
    "from sklearn.model_selection import GridSearchCV\n",
    "\n",
    "parameters = {\"n_estimators\": [50, 100, 200]}\n",
    "clf = RandomForestClassifier()\n",
    "grid = GridSearchCV(clf, parameters, scoring=\"accuracy\")\n",
    "grid.fit(X_train, Y_train)\n",
    "grid.best_params_"
   ],
   "metadata": {
    "collapsed": false
   }
  },
  {
   "cell_type": "code",
   "execution_count": 92,
   "outputs": [
    {
     "name": "stderr",
     "output_type": "stream",
     "text": [
      "C:\\Users\\99480\\AppData\\Local\\Temp\\ipykernel_24196\\859583954.py:4: DataConversionWarning: A column-vector y was passed when a 1d array was expected. Please change the shape of y to (n_samples,), for example using ravel().\n",
      "  clf.fit(X_train, Y_train)\n"
     ]
    },
    {
     "name": "stdout",
     "output_type": "stream",
     "text": [
      "              precision    recall  f1-score   support\n",
      "\n",
      "           0       0.98      0.98      0.98       735\n",
      "           1       0.96      0.96      0.96       300\n",
      "\n",
      "    accuracy                           0.98      1035\n",
      "   macro avg       0.97      0.97      0.97      1035\n",
      "weighted avg       0.98      0.98      0.98      1035\n",
      "\n"
     ]
    }
   ],
   "source": [
    "from sklearn.metrics import classification_report\n",
    "\n",
    "clf = RandomForestClassifier(n_estimators=200)\n",
    "clf.fit(X_train, Y_train)\n",
    "Y_pred = clf.predict(X_test)\n",
    "print(classification_report(Y_pred, Y_test))"
   ],
   "metadata": {
    "collapsed": false
   }
  },
  {
   "cell_type": "code",
   "execution_count": 93,
   "outputs": [
    {
     "data": {
      "text/plain": "(4137, 9452)"
     },
     "execution_count": 93,
     "metadata": {},
     "output_type": "execute_result"
    }
   ],
   "source": [
    "X_train.shape"
   ],
   "metadata": {
    "collapsed": false,
    "pycharm": {
     "name": "#%%len\n"
    }
   }
  },
  {
   "cell_type": "code",
   "execution_count": null,
   "outputs": [],
   "source": [],
   "metadata": {
    "collapsed": false
   }
  }
 ],
 "metadata": {
  "kernelspec": {
   "display_name": "Python 3",
   "language": "python",
   "name": "python3"
  },
  "language_info": {
   "codemirror_mode": {
    "name": "ipython",
    "version": 2
   },
   "file_extension": ".py",
   "mimetype": "text/x-python",
   "name": "python",
   "nbconvert_exporter": "python",
   "pygments_lexer": "ipython2",
   "version": "2.7.6"
  }
 },
 "nbformat": 4,
 "nbformat_minor": 0
}
